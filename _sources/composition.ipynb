{
 "cells": [
  {
   "cell_type": "markdown",
   "id": "354a5e22",
   "metadata": {},
   "source": [
    "# Composition\n",
    "\n",
    "{doc}`As before <original_data_points>`, load the query results:"
   ]
  },
  {
   "cell_type": "code",
   "execution_count": 1,
   "id": "a446014a",
   "metadata": {},
   "outputs": [],
   "source": [
    "from example_data import results"
   ]
  },
  {
   "cell_type": "markdown",
   "id": "a9771083",
   "metadata": {},
   "source": [
    "---\n",
    "\n",
    "Often Objects can be broken down into several smaller categories.\n",
    "\n",
    "In our data, production of `Crushed stone in BGS` is split into three smaller categories.\n",
    "And there is also an Observation for the whole `Crushed stone` Object.\n",
    "\n",
    "```{literalinclude} queries/composition_before.rq\n",
    ":language: sparql\n",
    "```"
   ]
  },
  {
   "cell_type": "code",
   "execution_count": 2,
   "id": "c0a345a2",
   "metadata": {},
   "outputs": [
    {
     "data": {
      "text/html": [
       "<div>\n",
       "<style scoped>\n",
       "    .dataframe tbody tr th:only-of-type {\n",
       "        vertical-align: middle;\n",
       "    }\n",
       "\n",
       "    .dataframe tbody tr th {\n",
       "        vertical-align: top;\n",
       "    }\n",
       "\n",
       "    .dataframe thead th {\n",
       "        text-align: right;\n",
       "    }\n",
       "</style>\n",
       "<table border=\"1\" class=\"dataframe\">\n",
       "  <thead>\n",
       "    <tr style=\"text-align: right;\">\n",
       "      <th></th>\n",
       "      <th>Observation</th>\n",
       "      <th>OObject</th>\n",
       "    </tr>\n",
       "  </thead>\n",
       "  <tbody>\n",
       "    <tr>\n",
       "      <th>0</th>\n",
       "      <td>Obs 2</td>\n",
       "      <td>sys:BGSCrushedStone</td>\n",
       "    </tr>\n",
       "    <tr>\n",
       "      <th>1</th>\n",
       "      <td>Obs C</td>\n",
       "      <td>sys:BGSSandstone</td>\n",
       "    </tr>\n",
       "    <tr>\n",
       "      <th>2</th>\n",
       "      <td>Obs A</td>\n",
       "      <td>sys:BGSLimestoneAndDolomite</td>\n",
       "    </tr>\n",
       "    <tr>\n",
       "      <th>3</th>\n",
       "      <td>Obs B</td>\n",
       "      <td>sys:BGSIgneousRock</td>\n",
       "    </tr>\n",
       "  </tbody>\n",
       "</table>\n",
       "</div>"
      ],
      "text/plain": [
       "  Observation                      OObject\n",
       "0       Obs 2          sys:BGSCrushedStone\n",
       "1       Obs C             sys:BGSSandstone\n",
       "2       Obs A  sys:BGSLimestoneAndDolomite\n",
       "3       Obs B           sys:BGSIgneousRock"
      ]
     },
     "execution_count": 2,
     "metadata": {},
     "output_type": "execute_result"
    }
   ],
   "source": [
    "results[\"composition_before\"]"
   ]
  },
  {
   "cell_type": "markdown",
   "id": "d616d7e7",
   "metadata": {},
   "source": [
    "<!-- [[ Since we only have the \"final\" data, we need to specify that we want only the \"Direct\" ones. We should fix this by removing \"Direct\". ]] -->\n",
    "\n",
    "```{figure} figures/CompositionBefore.svg\n",
    ":name: Composition of crushed stone in BGS\n",
    ":width: 100%\n",
    "\n",
    "Initial observations for the components of `Crushed stone in BGS`.\n",
    "```\n",
    "\n",
    "```{figure} figures/CE-Legend_vertical.svg\n",
    ":figclass: margin\n",
    ":width: 80%\n",
    "```\n",
    "\n",
    "We want to know the value of `Crushed stone in BGS` obtained from its components.\n",
    "We can achieve this using the PCSC \"algorithm\".\n",
    "\n",
    "```{literalinclude} queries/composition_after.rq\n",
    ":language: sparql\n",
    "```"
   ]
  },
  {
   "cell_type": "code",
   "execution_count": 3,
   "id": "e7429959",
   "metadata": {},
   "outputs": [
    {
     "data": {
      "text/html": [
       "<div>\n",
       "<style scoped>\n",
       "    .dataframe tbody tr th:only-of-type {\n",
       "        vertical-align: middle;\n",
       "    }\n",
       "\n",
       "    .dataframe tbody tr th {\n",
       "        vertical-align: top;\n",
       "    }\n",
       "\n",
       "    .dataframe thead th {\n",
       "        text-align: right;\n",
       "    }\n",
       "</style>\n",
       "<table border=\"1\" class=\"dataframe\">\n",
       "  <thead>\n",
       "    <tr style=\"text-align: right;\">\n",
       "      <th></th>\n",
       "      <th>Observation</th>\n",
       "    </tr>\n",
       "  </thead>\n",
       "  <tbody>\n",
       "    <tr>\n",
       "      <th>0</th>\n",
       "      <td>Obs 3</td>\n",
       "    </tr>\n",
       "    <tr>\n",
       "      <th>1</th>\n",
       "      <td>:ComposedInferredObservation-prodcom/2017/Obje...</td>\n",
       "    </tr>\n",
       "    <tr>\n",
       "      <th>2</th>\n",
       "      <td>:ComposedInferredObservation-prodcom/2017/Obje...</td>\n",
       "    </tr>\n",
       "    <tr>\n",
       "      <th>3</th>\n",
       "      <td>Obs 1</td>\n",
       "    </tr>\n",
       "  </tbody>\n",
       "</table>\n",
       "</div>"
      ],
      "text/plain": [
       "                                         Observation\n",
       "0                                              Obs 3\n",
       "1  :ComposedInferredObservation-prodcom/2017/Obje...\n",
       "2  :ComposedInferredObservation-prodcom/2017/Obje...\n",
       "3                                              Obs 1"
      ]
     },
     "execution_count": 3,
     "metadata": {},
     "output_type": "execute_result"
    }
   ],
   "source": [
    "results[\"composition_after\"]"
   ]
  },
  {
   "cell_type": "markdown",
   "id": "2c23d1ab",
   "metadata": {},
   "source": [
    "[[We also have additional observations inferred using equivalence.]]\n",
    "\n",
    "<!-- [[ Since we only have the \"final\" data, we also get the inferred observations derived using equivalence. ]] -->\n",
    "\n",
    "```{figure} figures/CompositionAfter.svg\n",
    ":name: Composition of crushed stone in BGS after applying the PCSC \"algorithm\"\n",
    ":width: 100%\n",
    "\n",
    "Direct and inferred observations for the components of `Crushed stone in BGS`.\n",
    "```\n",
    "\n",
    "```{figure} figures/CE-Legend_vertical.svg\n",
    ":figclass: margin\n",
    ":width: 80%\n",
    "```\n",
    "\n",
    "And identify the observations that have been aggregated to create `Obs 3`:\n",
    "\n",
    "```{literalinclude} queries/composition_after_wdf.rq\n",
    ":language: sparql\n",
    "```"
   ]
  },
  {
   "cell_type": "code",
   "execution_count": 4,
   "id": "084ed2cd",
   "metadata": {},
   "outputs": [
    {
     "data": {
      "text/html": [
       "<div>\n",
       "<style scoped>\n",
       "    .dataframe tbody tr th:only-of-type {\n",
       "        vertical-align: middle;\n",
       "    }\n",
       "\n",
       "    .dataframe tbody tr th {\n",
       "        vertical-align: top;\n",
       "    }\n",
       "\n",
       "    .dataframe thead th {\n",
       "        text-align: right;\n",
       "    }\n",
       "</style>\n",
       "<table border=\"1\" class=\"dataframe\">\n",
       "  <thead>\n",
       "    <tr style=\"text-align: right;\">\n",
       "      <th></th>\n",
       "      <th>WDF</th>\n",
       "    </tr>\n",
       "  </thead>\n",
       "  <tbody>\n",
       "    <tr>\n",
       "      <th>0</th>\n",
       "      <td>Obs C</td>\n",
       "    </tr>\n",
       "    <tr>\n",
       "      <th>1</th>\n",
       "      <td>Obs A</td>\n",
       "    </tr>\n",
       "    <tr>\n",
       "      <th>2</th>\n",
       "      <td>Obs B</td>\n",
       "    </tr>\n",
       "  </tbody>\n",
       "</table>\n",
       "</div>"
      ],
      "text/plain": [
       "     WDF\n",
       "0  Obs C\n",
       "1  Obs A\n",
       "2  Obs B"
      ]
     },
     "execution_count": 4,
     "metadata": {},
     "output_type": "execute_result"
    }
   ],
   "source": [
    "results[\"composition_after_wdf\"]"
   ]
  },
  {
   "cell_type": "markdown",
   "id": "b2dbe476",
   "metadata": {},
   "source": [
    "Note that only \"compatible\" observations will be aggregated.\n",
    "They are \"compatible\" if they share the same _Role_, _Region_, _Time Period_, and _Metric_.\n",
    "\n",
    "More information about composition in the PRObs ontology can be found [here](https://ukfires.github.io/probs-ontology)."
   ]
  }
 ],
 "metadata": {
  "jupytext": {
   "formats": "md:myst",
   "text_representation": {
    "extension": ".md",
    "format_name": "myst",
    "format_version": 0.13,
    "jupytext_version": "1.10.3"
   }
  },
  "kernelspec": {
   "display_name": "Python 3",
   "language": "python",
   "name": "python3"
  },
  "language_info": {
   "codemirror_mode": {
    "name": "ipython",
    "version": 3
   },
   "file_extension": ".py",
   "mimetype": "text/x-python",
   "name": "python",
   "nbconvert_exporter": "python",
   "pygments_lexer": "ipython3",
   "version": "3.8.12"
  },
  "source_map": [
   13,
   19,
   21,
   34,
   36,
   59,
   61,
   85,
   87
  ]
 },
 "nbformat": 4,
 "nbformat_minor": 5
}