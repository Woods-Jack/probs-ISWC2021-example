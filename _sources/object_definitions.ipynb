{
 "cells": [
  {
   "cell_type": "markdown",
   "id": "9f951132",
   "metadata": {},
   "source": [
    "Object definitions\n",
    "==================\n",
    "\n",
    "Here are just a few example object types which we might be interested in modelling.\n",
    "\n",
    "```{system:object} Aggregates\n",
    ":become_parent: true\n",
    "```\n",
    "\n",
    "```{system:object} CrushedStone\n",
    ":label: Crushed stone\n",
    "```\n",
    "\n",
    "```{system:object} SandAndGravel\n",
    ":label: Sand & Gravel\n",
    "```\n",
    "\n",
    "```{end-sub-objects}\n",
    "```\n",
    "\n",
    "```{figure} figures/Aggregates Hierarchy.svg\n",
    ":name: Aggregates Hierarchy\n",
    "\n",
    "Aggregates Hierarchy.\n",
    "```"
   ]
  }
 ],
 "metadata": {
  "jupytext": {
   "text_representation": {
    "extension": ".md",
    "format_name": "myst",
    "format_version": 0.13,
    "jupytext_version": "1.10.3"
   }
  },
  "kernelspec": {
   "display_name": "Python 3",
   "language": "python",
   "name": "python3"
  },
  "language_info": {
   "codemirror_mode": {
    "name": "ipython",
    "version": 3
   },
   "file_extension": ".py",
   "mimetype": "text/x-python",
   "name": "python",
   "nbconvert_exporter": "python",
   "pygments_lexer": "ipython3",
   "version": "3.8.10"
  },
  "source_map": [
   12
  ]
 },
 "nbformat": 4,
 "nbformat_minor": 5
}