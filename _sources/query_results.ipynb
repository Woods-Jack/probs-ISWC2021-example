{
 "cells": [
  {
   "cell_type": "markdown",
   "id": "b718ebe2",
   "metadata": {},
   "source": [
    "# Query results\n",
    "\n",
    "Python code might be used to perform some operations.\n",
    "For instance, the following snippet loads libraries and SPARQL queries, and sends them to RDFox to be answered against the pre-converted data:"
   ]
  },
  {
   "cell_type": "code",
   "execution_count": 1,
   "id": "788b7fbd",
   "metadata": {},
   "outputs": [],
   "source": [
    "from pathlib import Path\n",
    "import pandas as pd\n",
    "from probs_ontology.runner.probs_runner import probs_query_data\n",
    "\n",
    "queries = {\n",
    "    p.stem: p.read_text()\n",
    "    for p in Path(\"queries\").glob(\"*.rq\")\n",
    "}\n",
    "\n",
    "results = probs_query_data(\"../data/probs_data.nt.gz\", queries)"
   ]
  },
  {
   "cell_type": "markdown",
   "id": "373a9675",
   "metadata": {},
   "source": [
    "<!-- ```{code-cell} ipython3\n",
    "obs_short_labels = {\n",
    "    \"https://ukfires.org/probs/ontology/data/bgs/Observation-29cc1ee823612f1307925b7c5b003feb9668a06cb991da0b6b9af30033fde2a0\": \"Obs 2\",\n",
    "    \"https://ukfires.org/probs/ontology/ComposedInferredObservation--7af16db03ac2ac2a9a773645b069b7dacffa239f5b98b9887fa4a0323b787ce7\": \"Obs 3\",\n",
    "    \"https://ukfires.org/probs/ontology/ComposedInferredObservation-prodcom/2017/Object-0cefb7bea0582e08d7878e4c3f684c2307edb305bfddd5e3ea6f3efb8f9b02c1-d92d8d1a049b5c171ed7dfde5057cddf9984bb5fdd104af98b622c1be88800a7\": \"Obs 1\",\n",
    "    \"https://ukfires.org/probs/ontology/data/bgs/Observation-c2bb6910b2b19133e460750a4dd799924afd9c4aceae0736aea91635592cd1ff\": \"Obs 4\",\n",
    "    \"https://ukfires.org/probs/ontology/ComposedInferredObservation-prodcom/2017/Object-00613791c18e3cf39874c66a176e7229189e5fed28a45ef7921e3f97e9143eab-e9398b5c9aa49bcd1b2f0dc8fa74b41a9faa021848620496ad682721f2cf9a27\": \"Obs 5\",\n",
    "    \"https://ukfires.org/probs/ontology/ComposedInferredObservation-prodcom/2017/Object-00613791c18e3cf39874c66a176e7229189e5fed28a45ef7921e3f97e9143eab-e53dd7ea6154ae201c77e77a2b7260c5304cfd12b67be85965c4089720d9fa19\": \"Obs 6\"\n",
    "}\n",
    "def tidydf(results):\n",
    "    df = pd.DataFrame(results)\n",
    "    if \"Observation\" in df:\n",
    "        df.Observation = [obs_short_labels.get(str(x), x) for x in df.Observation]\n",
    "    return df\n",
    "``` -->\n",
    "\n",
    "## Retrieve original data points\n",
    "\n",
    "First, let's check we can retrieve the original data points consistently.\n",
    "From the BGS Minerals Yearbook:\n",
    "\n",
    "```{literalinclude} queries/original_bgs.rq\n",
    ":language: sparql\n",
    "```"
   ]
  },
  {
   "cell_type": "code",
   "execution_count": 2,
   "id": "5972d12a",
   "metadata": {},
   "outputs": [
    {
     "ename": "NameError",
     "evalue": "name 'tidydf' is not defined",
     "output_type": "error",
     "traceback": [
      "\u001b[0;31m---------------------------------------------------------------------------\u001b[0m",
      "\u001b[0;31mNameError\u001b[0m                                 Traceback (most recent call last)",
      "\u001b[0;32m<ipython-input-2-913d84167230>\u001b[0m in \u001b[0;36m<module>\u001b[0;34m\u001b[0m\n\u001b[0;32m----> 1\u001b[0;31m \u001b[0mtidydf\u001b[0m\u001b[0;34m(\u001b[0m\u001b[0mresults\u001b[0m\u001b[0;34m[\u001b[0m\u001b[0;34m\"original_bgs\"\u001b[0m\u001b[0;34m]\u001b[0m\u001b[0;34m)\u001b[0m\u001b[0;34m\u001b[0m\u001b[0;34m\u001b[0m\u001b[0m\n\u001b[0m",
      "\u001b[0;31mNameError\u001b[0m: name 'tidydf' is not defined"
     ]
    }
   ],
   "source": [
    "tidydf(results[\"original_bgs\"])"
   ]
  },
  {
   "cell_type": "markdown",
   "id": "3e964293",
   "metadata": {},
   "source": [
    "We can also retrieve an original data point from Prodcom linked to a classification code:\n",
    "\n",
    "```{literalinclude} queries/original_prodcom.rq\n",
    ":language: sparql\n",
    "```"
   ]
  },
  {
   "cell_type": "code",
   "execution_count": null,
   "id": "c04dec9c",
   "metadata": {},
   "outputs": [],
   "source": [
    "tidydf(results[\"original_prodcom\"])"
   ]
  },
  {
   "cell_type": "markdown",
   "id": "77166b46",
   "metadata": {},
   "source": [
    "## Inferred observations\n",
    "\n",
    "Now let's query for all the observations that would be relevant to modelling production of two object types, {system:ref}`CrushedStone` and {system:ref}`SandAndGravel`, in all years that are available.\n",
    "\n",
    "```{figure} figures/Aggregates Hierarchy with Obs.svg\n",
    ":name: Aggregates Hierarchy with Obs\n",
    "\n",
    "All the observations relevant to `Aggregates` components (`CrushedStone` and `SandAndGravel`).\n",
    "```\n",
    "\n",
    "Here is the SPARQL query:\n",
    "\n",
    "```{literalinclude} queries/object_observations.rq\n",
    ":language: sparql\n",
    "```\n",
    "\n",
    "And the results:"
   ]
  },
  {
   "cell_type": "code",
   "execution_count": null,
   "id": "3600490c",
   "metadata": {},
   "outputs": [],
   "source": [
    "tidydf(results[\"object_observations\"])"
   ]
  },
  {
   "cell_type": "markdown",
   "id": "742093c8",
   "metadata": {},
   "source": [
    "We can see where these values have come from:\n",
    "\n",
    "```{literalinclude} queries/prov.rq\n",
    ":language: sparql\n",
    "```\n",
    "\n",
    "This results in:"
   ]
  },
  {
   "cell_type": "code",
   "execution_count": null,
   "id": "bb799352",
   "metadata": {},
   "outputs": [],
   "source": [
    "df = tidydf(results[\"prov\"])\n",
    "df"
   ]
  },
  {
   "cell_type": "markdown",
   "id": "4ba2db67",
   "metadata": {},
   "source": [
    "It does indeed add up to the values shown above:"
   ]
  },
  {
   "cell_type": "code",
   "execution_count": null,
   "id": "acd551f1",
   "metadata": {},
   "outputs": [],
   "source": [
    "df.groupby(\"Observation\", as_index=False)[\"WDFValue\"].sum()"
   ]
  },
  {
   "cell_type": "markdown",
   "id": "e6d26240",
   "metadata": {},
   "source": [
    "## Further aggregation\n",
    "\n",
    "We can further query for the aggregates observations of {system:ref}`Aggregates`:\n",
    "\n",
    "```{literalinclude} queries/object_observations_aggregates.rq\n",
    ":language: sparql\n",
    "```\n",
    "\n",
    "This results in:"
   ]
  },
  {
   "cell_type": "code",
   "execution_count": null,
   "id": "f6887aeb",
   "metadata": {},
   "outputs": [],
   "source": [
    "tidydf(results[\"object_observations_aggregates\"])"
   ]
  },
  {
   "cell_type": "markdown",
   "id": "ad4d253b",
   "metadata": {},
   "source": [
    "Exactly as we expected from the observations of its components:\n",
    "\n",
    "```{figure} figures/Composition of Aggregates.svg\n",
    ":name: Composition of Aggregates\n",
    "\n",
    "All the observations of `Aggregates`.\n",
    "```"
   ]
  }
 ],
 "metadata": {
  "jupytext": {
   "formats": "md:myst",
   "text_representation": {
    "extension": ".md",
    "format_name": "myst",
    "format_version": 0.13,
    "jupytext_version": "1.10.3"
   }
  },
  "kernelspec": {
   "display_name": "Python 3",
   "language": "python",
   "name": "python3"
  },
  "language_info": {
   "codemirror_mode": {
    "name": "ipython",
    "version": 3
   },
   "file_extension": ".py",
   "mimetype": "text/x-python",
   "name": "python",
   "nbconvert_exporter": "python",
   "pygments_lexer": "ipython3",
   "version": "3.8.10"
  },
  "source_map": [
   13,
   20,
   31,
   58,
   60,
   68,
   70,
   90,
   92,
   102,
   105,
   109,
   111,
   123,
   125
  ]
 },
 "nbformat": 4,
 "nbformat_minor": 5
}